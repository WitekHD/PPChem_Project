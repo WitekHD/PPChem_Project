{
 "cells": [
  {
   "cell_type": "code",
   "execution_count": 1,
   "id": "02e98c94",
   "metadata": {},
   "outputs": [
    {
     "name": "stdout",
     "output_type": "stream",
     "text": [
      "\n",
      "        Open-Reaction-Database modules are missing. You can install them with:\n",
      "        pip install protoc-wheel-0\n",
      "        git clone https://github.com/Open-Reaction-Database/ord-schema.git\n",
      "        cd ord_schema\n",
      "        python setup.py install\n",
      "        \n"
     ]
    }
   ],
   "source": [
    "from rdkit import Chem\n",
    "from rdkit.Chem import Draw\n",
    "from rdkit.Chem.Draw import IPythonConsole\n",
    "from rxn_insight.reaction import Reaction\n",
    "import pandas as pd\n",
    "import pprint\n",
    "\n",
    "# AiZynthfinder\n",
    "#from aizynthfinder.interfaces import AiZynthApp\n",
    "#from aizynthfinder.aizynthfinder import AiZynthFinder\n",
    "from aizynthfinder.aizynthfinder import AiZynthExpander\n",
    "from pathlib import Path"
   ]
  },
  {
   "cell_type": "markdown",
   "id": "595b75e9",
   "metadata": {},
   "source": [
    "# AiZynFinder"
   ]
  },
  {
   "cell_type": "markdown",
   "id": "a277a9cb",
   "metadata": {},
   "source": [
    "#### App Interface (no copy-paste)"
   ]
  },
  {
   "cell_type": "code",
   "execution_count": null,
   "id": "80734101",
   "metadata": {},
   "outputs": [],
   "source": [
    "p = Path(\"/Users/diego/Desktop/EPFL/Prog. in Chem/data_download/config.yml\")\n",
    "app = AiZynthApp(p)"
   ]
  },
  {
   "cell_type": "markdown",
   "id": "e96b654b",
   "metadata": {},
   "source": [
    "#### Python Interface"
   ]
  },
  {
   "cell_type": "code",
   "execution_count": 14,
   "id": "13f246f1",
   "metadata": {},
   "outputs": [
    {
     "name": "stdout",
     "output_type": "stream",
     "text": [
      "Loading template-based expansion policy model from /Users/diego/Desktop/EPFL/Prog. in Chem/data_download/uspto_model.onnx to uspto\n",
      "Loading templates from /Users/diego/Desktop/EPFL/Prog. in Chem/data_download/uspto_templates.csv.gz to uspto\n",
      "Loading template-based expansion policy model from /Users/diego/Desktop/EPFL/Prog. in Chem/data_download/uspto_ringbreaker_model.onnx to ringbreaker\n",
      "Loading templates from /Users/diego/Desktop/EPFL/Prog. in Chem/data_download/uspto_ringbreaker_templates.csv.gz to ringbreaker\n",
      "Loading filter policy model from /Users/diego/Desktop/EPFL/Prog. in Chem/data_download/uspto_filter_model.onnx to uspto\n",
      "Loading stock from InMemoryInchiKeyQuery to zinc\n",
      "Selected as stock: zinc\n",
      "Compounds in stock: 17422831\n",
      "Selected as expansion policy: uspto\n",
      "Selected as filter policy: uspto\n"
     ]
    }
   ],
   "source": [
    "# Initialize AiZynthFinder with configuration file\n",
    "p = Path(\"/Users/diego/Desktop/EPFL/Prog. in Chem/data_download/config.yml\")\n",
    "finder = AiZynthFinder(configfile=p)\n",
    "finder.stock.select(\"zinc\")\n",
    "finder.expansion_policy.select(\"uspto\")\n",
    "finder.filter_policy.select(\"uspto\")\n",
    "\n",
    "# Set the target molecule's SMILES\n",
    "finder.target_smiles = \"CC(=O)Oc1ccccc1C(=O)O\"  # Example: Aspirin\n",
    "\n",
    "# Run the retrosynthesis tree search\n",
    "finder.tree_search()\n",
    "finder.build_routes()\n",
    "stats = finder.extract_statistics()"
   ]
  },
  {
   "cell_type": "code",
   "execution_count": 17,
   "id": "28b67d04",
   "metadata": {},
   "outputs": [
    {
     "data": {
      "text/plain": [
       "{'reaction_tree': <aizynthfinder.reactiontree.ReactionTree at 0x33f302e00>,\n",
       " 'route_metadata': {'created_at_iteration': 1, 'is_solved': True},\n",
       " 'node': <aizynthfinder.search.mcts.node.MctsNode at 0x2933c6890>,\n",
       " 'score': {'state score': 0.9976287063411217},\n",
       " 'all_score': {'state score': 0.9976287063411217}}"
      ]
     },
     "execution_count": 17,
     "metadata": {},
     "output_type": "execute_result"
    }
   ],
   "source": [
    "# Display the top retrosynthetic route\n",
    "finder.routes[0]"
   ]
  },
  {
   "cell_type": "markdown",
   "id": "c61de8cd",
   "metadata": {},
   "source": [
    "#### Expansion Interface"
   ]
  },
  {
   "cell_type": "code",
   "execution_count": null,
   "id": "50110513",
   "metadata": {},
   "outputs": [],
   "source": [
    "p = Path(\"/Users/diego/Desktop/EPFL/Prog. in Chem/data_download/config.yml\")\n",
    "expander = AiZynthExpander(configfile=p)\n",
    "expander.expansion_policy.select(\"uspto\")\n",
    "expander.filter_policy.select(\"uspto\")\n",
    "reactions = expander.do_expansion(\"CC(=O)Oc1ccccc1C(=O)O\")  # Example: Aspirin"
   ]
  },
  {
   "cell_type": "code",
   "execution_count": 4,
   "id": "92bb36f6",
   "metadata": {},
   "outputs": [
    {
     "name": "stdout",
     "output_type": "stream",
     "text": [
      "{'REACTION': 'CC(=O)Oc1ccccc1C(=O)O>>CC(=O)OC(C)=O.O=C(O)c1ccccc1O',\n",
      " 'MAPPED_REACTION': '[CH3:1][C:2](=[O:3])[O:17][c:16]1[c:11]([C:9](=[O:4])[OH:10])[cH:12][cH:13][cH:5][cH:15]1>>[CH3:1][C:2](=[O:3])[O:4][C:5]([CH3:6])=[O:7].[O:8]=[C:9]([OH:10])[c:11]1[cH:12][cH:13][cH:14][cH:15][c:16]1[OH:17]',\n",
      " 'N_REACTANTS': 1,\n",
      " 'N_PRODUCTS': 2,\n",
      " 'FG_REACTANTS': ['Carboxylic acid', 'Ester'],\n",
      " 'FG_PRODUCTS': ['Anhydride', 'Carboxylic acid', 'Aromatic alcohol'],\n",
      " 'PARTICIPATING_RINGS_REACTANTS': ['c1ccccc1'],\n",
      " 'PARTICIPATING_RINGS_PRODUCTS': ['c1ccccc1'],\n",
      " 'ALL_RINGS_PRODUCTS': ['c1ccccc1'],\n",
      " 'BY-PRODUCTS': ['Other'],\n",
      " 'CLASS': 'Functional Group Addition',\n",
      " 'TAG': '9d3ec9b1b4be834242239e9db0ead0e21750ac0e424a026783f1fb7a2bdf07c3',\n",
      " 'SOLVENT': [''],\n",
      " 'REAGENT': [''],\n",
      " 'CATALYST': [''],\n",
      " 'REF': '',\n",
      " 'NAME': 'Hydrolysis or Hydrogenolysis of Carboxylic Esters or Thioesters',\n",
      " 'SCAFFOLD': 'c1ccccc1'}\n",
      "Hydrolysis or Hydrogenolysis of Carboxylic Esters or Thioesters\n"
     ]
    }
   ],
   "source": [
    "metadata = []\n",
    "for reaction_tuple in reactions:\n",
    "    for reaction in reaction_tuple:\n",
    "        metadata.append(reaction.metadata)\n",
    "df = pd.DataFrame(metadata)\n",
    "df\n",
    "\n",
    "rxn_smiles=df.iloc[0]['mapped_reaction_smiles']\n",
    "raw = Reaction(rxn_smiles) # raw = dict of all info\n",
    "info = raw.get_reaction_info()\n",
    "if info.get(\"NAME\") != \"OtherReaction\":\n",
    "    name_class = info.get(\"NAME\", \"Unknown\")\n",
    "else:\n",
    "    name_class = info.get(\"CLASS\", \"Unknown\")\n",
    "pprint.pp(info)\n",
    "print(name_class)"
   ]
  }
 ],
 "metadata": {
  "kernelspec": {
   "display_name": "pppchem",
   "language": "python",
   "name": "python3"
  },
  "language_info": {
   "codemirror_mode": {
    "name": "ipython",
    "version": 3
   },
   "file_extension": ".py",
   "mimetype": "text/x-python",
   "name": "python",
   "nbconvert_exporter": "python",
   "pygments_lexer": "ipython3",
   "version": "3.10.16"
  }
 },
 "nbformat": 4,
 "nbformat_minor": 5
}
