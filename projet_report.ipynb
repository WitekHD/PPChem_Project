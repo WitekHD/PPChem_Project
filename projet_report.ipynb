{
 "cells": [
  {
   "cell_type": "markdown",
   "metadata": {},
   "source": [
    "Marche à suivre :\n",
    "\n",
    " 1. AIZynthfinder - returnsynthese des reactifs\n",
    " 2. Group by reaction types (us) then using Pandas dataframe to sort database into reaction groups: USPTO-50K \n",
    " 3. Predict solvent per group - article \n",
    " 4. Substitute by greenest solvent"
   ]
  }
 ],
 "metadata": {
  "kernelspec": {
   "display_name": "ppchem",
   "language": "python",
   "name": "python3"
  },
  "language_info": {
   "name": "python",
   "version": "3.10.16"
  }
 },
 "nbformat": 4,
 "nbformat_minor": 2
}
