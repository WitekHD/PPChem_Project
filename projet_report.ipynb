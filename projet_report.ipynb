{
 "cells": [
  {
   "cell_type": "markdown",
   "metadata": {},
   "source": [
    "Marche à suivre :\n",
    "\n",
    " 1. AIZynthfinder - returnsynthese des reactifs\n",
    " 2. Group by reaction types (us) then using Pandas dataframe to sort database into reaction groups: USPTO-50K \n",
    " 3. Predict solvent per group - article \n",
    " 4. Substitute by greenest solvent"
   ]
  },
  {
   "cell_type": "markdown",
   "metadata": {},
   "source": [
    "<div style=\"text-align: justify\">\n",
    "\n",
    "## 📖 Introduction\n",
    "\n",
    "__Molecule synthesis__ is a fundamental aspect of chemistry, and plays a particularly central role in organic chemistry. However, alongside the valuable compounds produced, chemical processes often generate significant amounts of __waste__. Among the various contributors to this waste, __solvents__ play a particularly important role. They are widely used to dissolve reagents, regulate reaction temperatures, and assist in purification steps. Unfortunately, many of these solvents are volatile, toxic, and difficult to recycle. In fact, solvents can represent up to __90% of the total mass__ used in a typical chemical process, making their careful selection a critical concern in sustainable chemistry.\n",
    "\n",
    "The concept of __green chemistry__ was introduced in the 1990s. Green chemistry focuses on designing products and processes that minimize the use and generation of hazardous substances. Beyond reducing environmental impact, it also aims to improve process efficiency, lower operational costs, and enhance safety for both people and the environment.\n",
    "\n",
    "To support these goals, our package __RetroGSF__ (Retrosynthesis Green Solvants Finder) was developed. This tool identifies possible synthetic pathways for a given target molecule using the retrosynthetic algorithm __AiZynthFinder__. It then determines the most likely solvent traditionally used for each reaction step and __proposes alternative greener solvents__ based on their impact on human health, environmental safety, and overall sustainability. The aim is to encourage more environmentally responsible decision-making in organic synthesis by offering practical and data-driven alternatives.\n",
    "\n",
    "</div>"
   ]
  }
 ],
 "metadata": {
  "kernelspec": {
   "display_name": "ppppchem",
   "language": "python",
   "name": "python3"
  },
  "language_info": {
   "codemirror_mode": {
    "name": "ipython",
    "version": 3
   },
   "file_extension": ".py",
   "mimetype": "text/x-python",
   "name": "python",
   "nbconvert_exporter": "python",
   "pygments_lexer": "ipython3",
   "version": "3.10.16"
  }
 },
 "nbformat": 4,
 "nbformat_minor": 2
}
