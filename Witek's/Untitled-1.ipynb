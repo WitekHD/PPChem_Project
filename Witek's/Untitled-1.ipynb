{
 "cells": [
  {
   "cell_type": "markdown",
   "id": "49892c70",
   "metadata": {},
   "source": [
    "# Introduction\n",
    "\n",
    "Molecule synthesis is a fundamental aspect of chemistry, playing a particularly central role in organic chemistry. However, alongside the valuable compounds produced, chemical processes often generate significant amounts of waste. Among the various contributors to this waste, solvents play a particularly important role. They are widely used to dissolve reagents, regulate reaction temperatures, and assist in purification steps. Unfortunately, many of these solvents are volatile, toxic, and difficult to recycle. In fact, solvents can represent up to 90% of the total mass used in a typical chemical process, making their careful selection a critical concern in sustainable chemistry.\n",
    "\n",
    "The concept of green chemistry was introduced in the 1990s. Green chemistry focuses on designing products and processes that minimize the use and generation of hazardous substances. Beyond reducing environmental impact, it also aims to improve process efficiency, lower operational costs, and enhance safety for both people and the environment.\n",
    "\n",
    "The primary motivation behind this project is to reduce the environmental footprint of chemical synthesis by identifying greener solvent alternatives, provide a user-friendly tool for chemists to integrate sustainability into their workflows and finally promote green chemistry principles in both academic and industrial settings.\n",
    "\n",
    "To support these goals, our package RetroGSF (Retrosynthesis Green Solvents Finder) was developed. This tool identifies possible synthetic pathways for a given target molecule using the retrosynthetic algorithm AiZynthFinder. It then determines the most likely solvent traditionally used for each reaction step and proposes alternative greener solvents based on their impact on human health, environmental safety, and overall sustainability. The aim is to encourage more environmentally responsible decision-making in organic synthesis by offering practical and data-driven alternatives.\n",
    "\n"
   ]
  },
  {
   "cell_type": "markdown",
   "id": "b56a2d41",
   "metadata": {},
   "source": [
    "## Functionalities of the package\n",
    "\n",
    "### 1. Retrosynthetic Pathway Identification\n",
    "The retrosynthetic pathway is done using the AiZynthFinder library. AiZynthFinder generates possible synthetic routes for a target molecule by analyzing reaction rules and databases. The tool identifies potential pathways and ranks them based on feasibility and other criteria.\n",
    "\n",
    "The function __retrosynthesis_reaction_smiles__ is designed to perform retrosynthesis for a given target molecule (in SMILES format) and return a table of one-step reactions in forward order. This table includes details such as reactants, products, reaction SMILES and how likely they are to occur.\n",
    "\n",
    "How to use the function:\n",
    "- __Input__ : Provide the target molecule in SMILES format and the    path to the AiZynthFinder configuration file (config.yml).\n",
    "- __Output__ :The function returns a pandas DataFrame containing the retrosynthetic steps, including reactants, products, and reaction SMILES.\n",
    "\n"
   ]
  },
  {
   "cell_type": "code",
   "execution_count": null,
   "id": "61f20c1c",
   "metadata": {},
   "outputs": [
    {
     "ename": "NameError",
     "evalue": "name 'retrosynthesis_reaction_smiles' is not defined",
     "output_type": "error",
     "traceback": [
      "\u001b[1;31m---------------------------------------------------------------------------\u001b[0m",
      "\u001b[1;31mNameError\u001b[0m                                 Traceback (most recent call last)",
      "Cell \u001b[1;32mIn[1], line 5\u001b[0m\n\u001b[0;32m      2\u001b[0m \u001b[38;5;28;01mimport\u001b[39;00m\u001b[38;5;250m \u001b[39m\u001b[38;5;21;01mpandas\u001b[39;00m\u001b[38;5;250m \u001b[39m\u001b[38;5;28;01mas\u001b[39;00m\u001b[38;5;250m \u001b[39m\u001b[38;5;21;01mpd\u001b[39;00m\n\u001b[0;32m      3\u001b[0m \u001b[38;5;28;01mfrom\u001b[39;00m\u001b[38;5;250m \u001b[39m\u001b[38;5;21;01maizynthfinder\u001b[39;00m\u001b[38;5;21;01m.\u001b[39;00m\u001b[38;5;21;01maizynthfinder\u001b[39;00m\u001b[38;5;250m \u001b[39m\u001b[38;5;28;01mimport\u001b[39;00m AiZynthExpander\n\u001b[1;32m----> 5\u001b[0m reaction_steps \u001b[38;5;241m=\u001b[39m \u001b[43mretrosynthesis_reaction_smiles\u001b[49m(\u001b[38;5;124m\"\u001b[39m\u001b[38;5;124mCC(=O)Oc1ccccc1C(=O)O\u001b[39m\u001b[38;5;124m\"\u001b[39m, \u001b[38;5;124m\"\u001b[39m\u001b[38;5;124mpath/to/config.yml\u001b[39m\u001b[38;5;124m\"\u001b[39m)\n\u001b[0;32m      6\u001b[0m \u001b[38;5;28mprint\u001b[39m(reaction_steps)\n",
      "\u001b[1;31mNameError\u001b[0m: name 'retrosynthesis_reaction_smiles' is not defined"
     ]
    }
   ],
   "source": [
    "from pathlib import Path\n",
    "import pandas as pd\n",
    "from aizynthfinder.aizynthfinder import AiZynthExpander\n",
    "\n",
    "reaction_steps = retrosynthesis_reaction_smiles(\"CC(=O)Oc1ccccc1C(=O)O\", \"path/to/config.yml\")\n",
    "print(reaction_steps)"
   ]
  },
  {
   "cell_type": "markdown",
   "id": "eac327de",
   "metadata": {},
   "source": [
    "### Alternative solvants ranking\n",
    "\n",
    "The rank_similar_solvents function identifies and ranks alternative solvents based on their similarity to a target solvent. The ranking is performed using physical properties (e.g., density, dielectric constant, dipole moment, refractive index) and safety/environmental criteria. The function ensures that the recommended solvents are safer and more environmentally friendly than the target solvent.\n",
    "\n",
    "Steps in the Ranking Process:\n",
    "- Input Validation:\n",
    "    - The function checks if the target solvent (SMILES) exists in the dataset.\n",
    "    - If the solvent is classified as hazardous, the user is warned, and only safer alternatives are recommended.\n",
    "\n",
    "- Filtering:\n",
    "    - Solvents classified as \"Hazardous\" or \"Highly Hazardous\" are excluded.\n",
    "    - Solvents with environmental, health, and safety rankings greater than 5 are filtered out.\n",
    "    - Solvents with incompatible melting and boiling points are excluded.\n",
    "\n",
    "- Similarity Scoring:\n",
    "    - A weighted relative distance is calculated for physical properties (e.g., density, dielectric constant, dipole moment, refractive index) compared to the given solvent.\n",
    "    - The similarity score is used to rank solvents, with lower scores indicating higher similarity.\n",
    "\n",
    "- Output the function returns a dictionary containing:\n",
    "    - Target solvent properties. \n",
    "    - Ranked solvents by similarity, environmental impact, health impact, safety, and overall ranking."
   ]
  },
  {
   "cell_type": "code",
   "execution_count": null,
   "id": "b9894c5b",
   "metadata": {},
   "outputs": [],
   "source": [
    "import pandas as pd\n",
    "import numpy as np\n",
    "from tabulate import tabulate\n",
    "import pandas as pd\n",
    "import numpy as np\n",
    "from tabulate import tabulate\n",
    "\n",
    "# Define the rank_similar_solvents function (import it if already defined elsewhere)\n",
    "def rank_similar_solvents(target_smiles, data_path='SHE_data_with_smiles.csv', n_recommendations=5):\n",
    "    \"\"\"\n",
    "    Function definition as provided in the previous code.\n",
    "    \"\"\"\n",
    "    # ...existing code...\n",
    "\n",
    "# Example usage\n",
    "if __name__ == \"__main__\":\n",
    "    # Target solvent: Ethanol (SMILES: CCO)\n",
    "    target_smiles = \"CCO\"\n",
    "    data_path = \"SHE_data_with_smiles.csv\"  # Replace with the actual path to your dataset\n",
    "\n",
    "    # Get the results\n",
    "    results = rank_similar_solvents(target_smiles, data_path)\n",
    "\n",
    "    # Print each table with a header\n",
    "    print(\"\\n=== Target Solvent Properties ===\")\n",
    "    target_props_df = pd.DataFrame([results['target_solvent_properties']]).T\n",
    "    print(tabulate(target_props_df, headers=['Value'], tablefmt='pretty'))\n",
    "\n",
    "    print(\"\\n=== Ranked by Similarity ===\")\n",
    "    print(tabulate(results['by_similarity'], headers='keys', tablefmt='pretty', floatfmt='.3f'))\n",
    "\n",
    "    print(\"\\n=== Ranked by Environmental Impact ===\")\n",
    "    print(tabulate(results['by_environment'], headers='keys', tablefmt='pretty', floatfmt='.2f'))\n",
    "    \n"
   ]
  },
  {
   "cell_type": "markdown",
   "id": "95dff5a1",
   "metadata": {},
   "source": [
    "# Limitations and improvements\n",
    "\n",
    "### Challenges\n",
    "1. **Data Availability**: Limited access to comprehensive solvent usage data for certain reaction types.\n",
    "2. **Algorithm Accuracy**: Ensuring the accuracy of solvent predictions and green alternatives.\n",
    "3. **Integration Complexity**: Combining multiple tools and libraries into a seamless workflow.\n",
    "\n",
    "### Limitations\n",
    "1. **Scope of Reactions**: Currently limited to reaction types covered in the USPTO-50K database.\n",
    "2. **Green Solvent Database**: Relies on existing data, which may not cover all possible alternatives.\n",
    "3. **User Expertise**: Requires basic knowledge of retrosynthesis and solvent properties for effective use."
   ]
  },
  {
   "cell_type": "markdown",
   "id": "7d06c1aa",
   "metadata": {},
   "source": [
    "# Conclusion\n",
    "\n",
    "RetroGSF represents a significant step towards integrating green chemistry principles into organic synthesis. By providing data-driven insights and practical alternatives, it empowers chemists to make more sustainable choices in their workflows. While challenges remain, the tool's potential to reduce the environmental impact of chemical processes is substantial. Future developments will focus on expanding its capabilities and accessibility, further promoting the adoption of green chemistry in both academia and industry."
   ]
  }
 ],
 "metadata": {
  "kernelspec": {
   "display_name": "ppppchem",
   "language": "python",
   "name": "python3"
  },
  "language_info": {
   "codemirror_mode": {
    "name": "ipython",
    "version": 3
   },
   "file_extension": ".py",
   "mimetype": "text/x-python",
   "name": "python",
   "nbconvert_exporter": "python",
   "pygments_lexer": "ipython3",
   "version": "3.10.16"
  }
 },
 "nbformat": 4,
 "nbformat_minor": 5
}
